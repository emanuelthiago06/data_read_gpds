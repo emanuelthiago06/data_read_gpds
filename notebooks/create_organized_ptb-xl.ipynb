{
 "cells": [
  {
   "cell_type": "markdown",
   "id": "daf9eae9-fe34-4494-b93d-9da652d4636e",
   "metadata": {},
   "source": [
    "NOTEBOOK PARA CRIAÇÃO DO ORGANIZED DATASET, A PARTIR DO ORIGINAL, COM OS SPLITS DE ACORDO COM A RECOMENDAÇÃO DA LITERATURA\n",
    "* setar o original_dataset_dir\n",
    "* output_dir"
   ]
  },
  {
   "cell_type": "code",
   "execution_count": 1,
   "id": "712689eb-3d2e-4bf8-a43b-fe8a7d80067e",
   "metadata": {
    "tags": []
   },
   "outputs": [],
   "source": [
    "import pandas as pd\n",
    "import numpy as np\n",
    "import wfdb\n",
    "import ast\n",
    "import os\n",
    "import sys\n",
    "import shutil"
   ]
  },
  {
   "cell_type": "code",
   "execution_count": 2,
   "id": "b4d9c432-3766-4ad0-89e5-62c300ad0210",
   "metadata": {},
   "outputs": [],
   "source": [
    "original_dataset_dir = '/home/pedrodsk/ifpb/ptb-xl-a-large-publicly-available-electrocardiography-dataset-1.0.3'\n",
    "output_dir = '/home/pedrodsk'"
   ]
  },
  {
   "cell_type": "code",
   "execution_count": 3,
   "id": "a4b3b11c-b4b2-4b2b-a0bb-db2e4391e2d0",
   "metadata": {},
   "outputs": [],
   "source": [
    "def create_dataset(x, split, original_dataset_dir, output_dir):\n",
    "    path_split = x.split(os.sep)\n",
    "    output_folder = os.path.join(output_dir, 'ptb-xl_v103_organized', path_split[0], split, path_split[1])\n",
    "    filename1 = path_split[2]+'.dat'\n",
    "    filename2 = path_split[2]+'.hea'\n",
    "    \n",
    "    if not os.path.exists(output_folder):\n",
    "        os.makedirs(output_folder, exist_ok=True)\n",
    "    shutil.copyfile(os.path.join(original_dataset_dir, path_split[0], path_split[1], filename1), \n",
    "                    os.path.join(output_folder, filename1))\n",
    "    shutil.copyfile(os.path.join(original_dataset_dir, path_split[0], path_split[1], filename2), \n",
    "                    os.path.join(output_folder, filename2))"
   ]
  },
  {
   "cell_type": "code",
   "execution_count": 4,
   "id": "9f8071f2-0af4-4dd4-8589-819a7edb5307",
   "metadata": {
    "tags": []
   },
   "outputs": [],
   "source": [
    "path = original_dataset_dir\n",
    "sampling_rate1=100\n",
    "sampling_rate2=500"
   ]
  },
  {
   "cell_type": "code",
   "execution_count": 5,
   "id": "8986c8ac-ebf5-4e43-81b9-8849329d5dce",
   "metadata": {
    "tags": []
   },
   "outputs": [],
   "source": [
    "Y = pd.read_csv(os.path.join(path, 'ptbxl_database.csv'), index_col='ecg_id')"
   ]
  },
  {
   "cell_type": "markdown",
   "id": "a73ce616-a289-4d61-b54d-5ee1b6a8f158",
   "metadata": {
    "tags": []
   },
   "source": [
    "# Sumarização dos dados"
   ]
  },
  {
   "cell_type": "markdown",
   "id": "bd50471f-cba4-4298-b80e-a27e300f4f28",
   "metadata": {
    "tags": []
   },
   "source": [
    "## Test"
   ]
  },
  {
   "cell_type": "code",
   "execution_count": 6,
   "id": "0210835d-310d-4c25-a304-b724ded31213",
   "metadata": {
    "tags": []
   },
   "outputs": [
    {
     "name": "stdout",
     "output_type": "stream",
     "text": [
      "Qtd de dados de teste: 2198, 10.08%\n"
     ]
    }
   ],
   "source": [
    "Y_TEST = Y[Y.strat_fold == 10]\n",
    "print(f\"Qtd de dados de teste: {Y_TEST.patient_id.count()}, {round(Y_TEST.patient_id.count()/Y.patient_id.count()*100,2)}%\")"
   ]
  },
  {
   "cell_type": "markdown",
   "id": "b451720e-92a6-462a-abd3-5b32e61d3de9",
   "metadata": {
    "tags": []
   },
   "source": [
    "## Devel"
   ]
  },
  {
   "cell_type": "code",
   "execution_count": 7,
   "id": "aeb7dedc-233a-4c7b-88cf-6f29cce12b70",
   "metadata": {
    "tags": []
   },
   "outputs": [
    {
     "name": "stdout",
     "output_type": "stream",
     "text": [
      "Qtd de dados de avaliação: 2183, 10.01%\n"
     ]
    }
   ],
   "source": [
    "Y_DEVEL = Y[Y.strat_fold == 9]\n",
    "print(f\"Qtd de dados de avaliação: {Y_DEVEL.patient_id.count()}, {round(Y_DEVEL.patient_id.count()/Y.patient_id.count()*100,2)}%\")"
   ]
  },
  {
   "cell_type": "markdown",
   "id": "625762c6-8bec-413c-9cd7-d8619af1dd08",
   "metadata": {
    "tags": []
   },
   "source": [
    "## Train"
   ]
  },
  {
   "cell_type": "code",
   "execution_count": 8,
   "id": "81272164-6e14-42c8-aff2-1e63eb2db099",
   "metadata": {
    "tags": []
   },
   "outputs": [
    {
     "name": "stdout",
     "output_type": "stream",
     "text": [
      "Qtd de dados de treino: 17418, 79.9%\n"
     ]
    }
   ],
   "source": [
    "Y_TRAIN = Y[(Y.strat_fold != 9) & (Y.strat_fold != 10)] \n",
    "print(f\"Qtd de dados de treino: {Y_TRAIN.patient_id.count()}, {round(Y_TRAIN.patient_id.count()/Y.patient_id.count()*100,2)}%\")"
   ]
  },
  {
   "cell_type": "markdown",
   "id": "8206f781-167e-4b84-bfbb-4b05c163b26d",
   "metadata": {},
   "source": [
    "# Criando dataset"
   ]
  },
  {
   "cell_type": "markdown",
   "id": "eda39efa-ca77-4069-a72d-5e6ba2dab2a6",
   "metadata": {},
   "source": [
    "## SAMPLE_RATING 100"
   ]
  },
  {
   "cell_type": "code",
   "execution_count": 9,
   "id": "f5ae95a6-7964-453a-9a94-8a3d15c36354",
   "metadata": {},
   "outputs": [
    {
     "name": "stdout",
     "output_type": "stream",
     "text": [
      " Split de teste criado !!\n"
     ]
    }
   ],
   "source": [
    "Y_TEST.filename_lr.apply(lambda x: create_dataset(x, 'TEST', original_dataset_dir, output_dir))\n",
    "print(f\" Split de teste criado !!\")"
   ]
  },
  {
   "cell_type": "code",
   "execution_count": 10,
   "id": "cc12f345-fc3e-4858-bdaf-12515fa50569",
   "metadata": {},
   "outputs": [
    {
     "name": "stdout",
     "output_type": "stream",
     "text": [
      " Split de avaliação criado !!\n"
     ]
    }
   ],
   "source": [
    "Y_DEVEL.filename_lr.apply(lambda x: create_dataset(x, 'EVAL', original_dataset_dir, output_dir))\n",
    "print(f\" Split de avaliação criado !!\")"
   ]
  },
  {
   "cell_type": "code",
   "execution_count": 11,
   "id": "3742ce7c-87dc-402b-9b54-722321390d62",
   "metadata": {},
   "outputs": [
    {
     "name": "stdout",
     "output_type": "stream",
     "text": [
      " Split de treino criado !!\n"
     ]
    }
   ],
   "source": [
    "Y_TRAIN.filename_lr.apply(lambda x: create_dataset(x, 'TRAIN', original_dataset_dir, output_dir))\n",
    "print(f\" Split de treino criado !!\")"
   ]
  },
  {
   "cell_type": "markdown",
   "id": "31ed286f-2f33-438c-a6dd-357bd510d4c4",
   "metadata": {},
   "source": [
    "## SAMPLE_RATING 500"
   ]
  },
  {
   "cell_type": "code",
   "execution_count": null,
   "id": "48d8cb67-abe0-48b5-872c-e8dbd24191eb",
   "metadata": {},
   "outputs": [],
   "source": [
    "Y_TEST.filename_hr.apply(lambda x: create_dataset(x, 'TEST', original_dataset_dir, output_dir))\n",
    "print(f\" Split de teste criado !!\")"
   ]
  },
  {
   "cell_type": "code",
   "execution_count": null,
   "id": "74b35fc9-ca85-4328-a919-fe76e1103365",
   "metadata": {},
   "outputs": [],
   "source": [
    "Y_DEVEL.filename_hr.apply(lambda x: create_dataset(x, 'EVAL', original_dataset_dir, output_dir))\n",
    "print(f\" Split de avaliação criado !!\")"
   ]
  },
  {
   "cell_type": "code",
   "execution_count": null,
   "id": "08064149-c346-4fe0-af7b-bb239351bc63",
   "metadata": {
    "tags": []
   },
   "outputs": [],
   "source": [
    "Y_TRAIN.filename_hr.apply(lambda x: create_dataset(x, 'TRAIN', original_dataset_dir, output_dir))\n",
    "print(f\" Split de treino criado !!\")"
   ]
  }
 ],
 "metadata": {
  "kernelspec": {
   "display_name": "Python 3 (ipykernel)",
   "language": "python",
   "name": "python3"
  },
  "language_info": {
   "codemirror_mode": {
    "name": "ipython",
    "version": 3
   },
   "file_extension": ".py",
   "mimetype": "text/x-python",
   "name": "python",
   "nbconvert_exporter": "python",
   "pygments_lexer": "ipython3",
   "version": "3.10.9"
  }
 },
 "nbformat": 4,
 "nbformat_minor": 5
}
